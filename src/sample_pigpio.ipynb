{
 "cells": [
  {
   "cell_type": "code",
   "execution_count": 1,
   "metadata": {},
   "outputs": [],
   "source": [
    "import time\n",
    "import pigpio\n",
    "import math"
   ]
  },
  {
   "cell_type": "code",
   "execution_count": 2,
   "metadata": {
    "collapsed": true
   },
   "outputs": [],
   "source": [
    "pi1 = pigpio.pi()"
   ]
  },
  {
   "cell_type": "code",
   "execution_count": null,
   "metadata": {
    "collapsed": true
   },
   "outputs": [],
   "source": [
    "red_pin = 5       # change these for your values\n",
    "green_pin = 13\n",
    "blue_pin = 26\n",
    "\n",
    "pi1.set_mode(26,pigpio.OUTPUT) # I don't think this is \n",
    "pi1.set_mode(26,pigpio.OUTPUT)\n",
    "pi1.set_mode(26,pigpio.OUTPUT)"
   ]
  },
  {
   "cell_type": "markdown",
   "metadata": {},
   "source": [
    "#### valid_int() checks to see if the input the user provided falls between 0 and 255."
   ]
  },
  {
   "cell_type": "code",
   "execution_count": 3,
   "metadata": {
    "collapsed": true
   },
   "outputs": [],
   "source": [
    "def valid_int(s):\n",
    "    try:\n",
    "        x = int(s)\n",
    "        if(x > 255 or x < 0):\n",
    "            return False\n",
    "        else:\n",
    "            return True\n",
    "    except ValueError:\n",
    "        return False"
   ]
  },
  {
   "cell_type": "markdown",
   "metadata": {},
   "source": [
    "#### single_color() asks the user to provide a number between 0 and 255 for red, green, and blue. It's not the most elegant way of going about this, but this is just to demonstrain the idea. The final product - when we have a Flask web application running - is much cooler"
   ]
  },
  {
   "cell_type": "code",
   "execution_count": 4,
   "metadata": {
    "collapsed": true
   },
   "outputs": [],
   "source": [
    "def single_color(t=1):\n",
    "\n",
    "    red_led = input(\"value for red led (0-255) -->\")\n",
    "    while valid_int(red_led) != True:\n",
    "            print(\"invalid input for the red LEDs\")\n",
    "            red_led = input(\"please enter a value between 0 and 255 -->\")\n",
    "    green_led = input(\"value for green led (0-255) \")\n",
    "    while valid_int(green_led) != True:\n",
    "            print(\"invalid input for the green LEDs -->\")\n",
    "            green_led = input(\"please enter a value between 0 and 255 -->\")\n",
    "    blue_led = input(\"value for blue led (0-255) -->\")\n",
    "    while valid_int(blue_led) != True:\n",
    "            print(\"invalid input for the blue LEDs\")\n",
    "            blue_led = input(\"please enter a value between 0 and 255 -->\")\n",
    "    rgb = [int(red_led), int(green_led), int(blue_led)]\n",
    "    color_fade(rgb,t)"
   ]
  },
  {
   "cell_type": "markdown",
   "metadata": {},
   "source": [
    "#### One problem I ran into while I was testing this, was that the LEDs would hurt your eyes if they transitioned quickly from very different colors - from vivid red to bright blue, for example. My solution was to add a small transition time during which the LEDs would fade from one color to the next."
   ]
  },
  {
   "cell_type": "code",
   "execution_count": 17,
   "metadata": {},
   "outputs": [],
   "source": [
    "def color_fade(rgb_vals, t=1.):\n",
    "    '''\n",
    "    Input:\n",
    "        rgb: a list containing the desired new values for \n",
    "        the red, green, and blue LEDs.\n",
    "        \n",
    "        t: the time the transition to the new color should \n",
    "        take. Default is 1 second. \n",
    "    '''\n",
    "\n",
    "    rgb_pins = [red_pin, green_pin, blue_pin] \n",
    "    \n",
    "    '''\n",
    "    This makes a list containing the PWM dutycycles for each GPIO\n",
    "    pin.\n",
    "    The try/except is in here because if we're running this script \n",
    "    without having run any other pigpio commands, the pigpio module\n",
    "    will return the error 'GPIO is not in use for PWM,' because\n",
    "    we haven't told pigpio to use the pins for PWM. We're asking it \n",
    "    to do something nonsensical - the except assigns the 'current'\n",
    "    values to zero.\n",
    "    I wish there was a snazzier way to do this, but looking at the \n",
    "    documentation, I don't think there is.\n",
    "    '''\n",
    "    try:   \n",
    "        rgb_current = [pi1.get_PWM_dutycycle(i) for i in rgb_pins]\n",
    "\n",
    "    except pigpio.error:\n",
    "        rgb_current = [0,0,0]\n",
    "    \n",
    "    # makes a list containing the differences between the current\n",
    "    # state of each pin and the desired state\n",
    "    diff_list = [(v-c) for c,v in zip(rgb_current, rgb_vals)]\n",
    "    \n",
    "    # Get the smallest non-zero difference \n",
    "    min_diff = min([abs(i) if i != 0 else 1000 for i in diff_list])\n",
    "    \n",
    "    # Exit if the RGB values are already all the same\n",
    "    if min_diff == 1000: return \n",
    "    \n",
    "    # How much we're going to incriment each pin by per step\n",
    "    step_sizes = [i/min_diff for i in diff_list]\n",
    "    \n",
    "    # A small pause between each loop, so the transition takes the \n",
    "    # right amount of time...\n",
    "    time_inc = t/min_diff\n",
    "    \n",
    "    '''\n",
    "    We go through and calculate how much each value should have changed\n",
    "    (step-size for that value * number of loops). The pin with the \n",
    "    smallest non-zero adjustment will be have its value incrimented by\n",
    "    1 each loop. We change the PWM for each pin, pause briefly, and \n",
    "    repeat. The entire process takes 't' seconds. \n",
    "    '''\n",
    "    for i in range(min_diff + 1):\n",
    "        for pin, val, stp in zip(rgb_pins, rgb_current, step_sizes):\n",
    "            new_duty = val+int(stp*i)\n",
    "            pi1.set_PWM_dutycycle(pin, new_duty)\n",
    "        time.sleep(time_inc)\n",
    "    # Done!"
   ]
  },
  {
   "cell_type": "markdown",
   "metadata": {},
   "source": [
    "### Should be good to go! \n",
    "Email me if you have any problems: timothy.salazar@colorado.edu"
   ]
  }
 ],
 "metadata": {
  "kernelspec": {
   "display_name": "Python 3",
   "language": "python",
   "name": "python3"
  },
  "language_info": {
   "codemirror_mode": {
    "name": "ipython",
    "version": 3
   },
   "file_extension": ".py",
   "mimetype": "text/x-python",
   "name": "python",
   "nbconvert_exporter": "python",
   "pygments_lexer": "ipython3",
   "version": "3.6.1"
  }
 },
 "nbformat": 4,
 "nbformat_minor": 2
}
